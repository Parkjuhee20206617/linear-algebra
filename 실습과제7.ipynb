{
  "nbformat": 4,
  "nbformat_minor": 0,
  "metadata": {
    "colab": {
      "provenance": []
    },
    "kernelspec": {
      "name": "python3",
      "display_name": "Python 3"
    },
    "language_info": {
      "name": "python"
    }
  },
  "cells": [
    {
      "cell_type": "markdown",
      "source": [
        "# inverse matrix 계산"
      ],
      "metadata": {
        "id": "J2hpNWfrqFMx"
      }
    },
    {
      "cell_type": "code",
      "execution_count": null,
      "metadata": {
        "colab": {
          "base_uri": "https://localhost:8080/"
        },
        "id": "u-kw9Q2Xgp-O",
        "outputId": "1d80aff0-919d-4c08-b4db-712541744d98"
      },
      "outputs": [
        {
          "output_type": "stream",
          "name": "stdout",
          "text": [
            "--- A ---\n",
            "1.00\t2.00\t\n",
            "3.00\t4.00\t\n",
            "\n",
            "--- linalg.matrix_power(A,-1) => Ainv1 ---\n",
            "-2.00\t1.00\t\n",
            "1.50\t-0.50\t\n",
            "\n",
            "---  np.linalg.inv((A) => Ainv2 ---\n",
            "-2.00\t1.00\t\n",
            "1.50\t-0.50\t\n",
            "\n",
            "--- A*Ainv1 ---\n",
            "1.00\t0.00\t\n",
            "0.00\t1.00\t\n",
            "\n",
            "--- A*Ainv2 ---\n",
            "1.00\t0.00\t\n",
            "0.00\t1.00\t\n",
            "\n",
            "--- B= ---\n",
            "0.34\t0.78\t0.66\t\n",
            "0.54\t0.99\t0.66\t\n",
            "0.88\t0.16\t0.02\t\n",
            "\n",
            "--- Binv =  ---\n",
            "0.79\t-0.84\t1.35\t\n",
            "-5.38\t5.46\t-1.32\t\n",
            "7.47\t-6.03\t0.87\t\n",
            "\n",
            "--- B*Binv= ---\n",
            "1.00\t-0.00\t0.00\t\n",
            "-0.00\t1.00\t0.00\t\n",
            "0.00\t-0.00\t1.00\t\n",
            "\n",
            "--- x ---\n",
            "1.31\t\n",
            "-0.38\t\n",
            "-0.31\t\n",
            "-0.77\t\n",
            "\n",
            "--- C*x ---\n",
            "4.00\t\n",
            "2.00\t\n",
            "5.00\t\n",
            "1.00\t\n",
            "\n"
          ]
        }
      ],
      "source": [
        "import numpy as np\n",
        "\n",
        "def pprint(msg,A):\n",
        "    print(\"---\",msg, \"---\")\n",
        "    (n,m)= A.shape\n",
        "    for i in range(0,n):\n",
        "        line = \"\"\n",
        "        for j in range(0,m):\n",
        "            line += \"{0:.2f}\".format(A[i,j])+ \"\\t\"\n",
        "        print(line)\n",
        "    print(\"\")\n",
        "\n",
        "A = np.array([[1.,2.],[3.,4.]])\n",
        "pprint(\"A\",A)\n",
        "\n",
        "Ainv1 = np.linalg.matrix_power(A,-1)\n",
        "pprint(\"linalg.matrix_power(A,-1) => Ainv1\", Ainv1)\n",
        "\n",
        "Ainv2 = np.linalg.inv(A)\n",
        "pprint(\" np.linalg.inv((A) => Ainv2\", Ainv2)\n",
        "\n",
        "pprint(\"A*Ainv1\",np.matmul(A,Ainv1))\n",
        "pprint(\"A*Ainv2\",np.matmul(A,Ainv2))\n",
        "\n",
        "B = np.random.rand(3,3)\n",
        "pprint(\"B=\",B)\n",
        "Binv = np.linalg.inv(B)\n",
        "pprint(\"Binv = \",Binv)\n",
        "pprint(\"B*Binv=\",np.matmul(B, Binv))\n",
        "\n",
        "C = np.array([[5,3,2,1],[6,2,4,5],[7,4,1,3],[4,3,5,2]])\n",
        "D= np.array([[4],[2],[5],[1]])\n",
        "x = np.matmul(np.linalg.inv(C),D)\n",
        "pprint(\"x\",x)\n",
        "pprint(\"C*x\",np.matmul(C,x))"
      ]
    },
    {
      "cell_type": "markdown",
      "source": [
        "# Determinant(행렬식) 계산하기"
      ],
      "metadata": {
        "id": "Z7cXJQhSqCrG"
      }
    },
    {
      "cell_type": "code",
      "source": [
        "#5-2\n",
        "import numpy as np\n",
        "\n",
        "def determinant(M):\n",
        "  if len(M) == 2:\n",
        "    return M[0,0]*M[1,1]-M[0,1]*M[1,0]\n",
        "\n",
        "a = np.array([[2,1],[4,5]])\n",
        "b = np.array([[4,3],[1,7]])\n",
        "print(\"a=\",a)\n",
        "print(\"det(a)=\",determinant(a))\n",
        "print(\"\")\n",
        "print(\"b=\",b)\n",
        "print(\"det(b)=\",determinant(b))"
      ],
      "metadata": {
        "colab": {
          "base_uri": "https://localhost:8080/"
        },
        "id": "vmpsK8G6jrLT",
        "outputId": "29628d93-5af2-4dd5-9a29-a5f56e45c67b"
      },
      "execution_count": null,
      "outputs": [
        {
          "output_type": "stream",
          "name": "stdout",
          "text": [
            "a= [[2 1]\n",
            " [4 5]]\n",
            "det(a)= 6\n",
            "\n",
            "b= [[4 3]\n",
            " [1 7]]\n",
            "det(b)= 25\n"
          ]
        }
      ]
    },
    {
      "cell_type": "code",
      "source": [
        "#5-3\n",
        "import numpy as np\n",
        "\n",
        "c = np.array([[5,2,3],[3,-1,1],[6,4,2]])\n",
        "d = np.array([[3,2,3],[6,1,2],[1,2,5]])\n",
        "\n",
        "detC = np.linalg.det(c)\n",
        "detD = np.linalg.det(d)\n",
        "\n",
        "print(\"c=\",c)\n",
        "print(\"det(c)=\",round(detC))\n",
        "print(\"\")\n",
        "print(\"d=\",d)\n",
        "print(\"det(d)=\",round(detD))"
      ],
      "metadata": {
        "colab": {
          "base_uri": "https://localhost:8080/"
        },
        "id": "xcaPMdhDp8Bh",
        "outputId": "98b723dc-9eed-412c-f696-eef48e6aa63d"
      },
      "execution_count": null,
      "outputs": [
        {
          "output_type": "stream",
          "name": "stdout",
          "text": [
            "c= [[ 5  2  3]\n",
            " [ 3 -1  1]\n",
            " [ 6  4  2]]\n",
            "det(c)= 24\n",
            "\n",
            "d= [[3 2 3]\n",
            " [6 1 2]\n",
            " [1 2 5]]\n",
            "det(d)= -20\n"
          ]
        }
      ]
    },
    {
      "cell_type": "code",
      "source": [
        "#5-7(a)\n",
        "import numpy as np\n",
        "\n",
        "a = np.array([[1,5,-6],[-1,-4,4],[-2,-7,9]])\n",
        "detA = np.linalg.det(a)\n",
        "\n",
        "print(\"a=\",a)\n",
        "print(\"det(a)=\",round(detA))"
      ],
      "metadata": {
        "colab": {
          "base_uri": "https://localhost:8080/"
        },
        "id": "YANLktL_rI-u",
        "outputId": "f9503d9d-0f7a-4b15-d9c0-fc1bf40dfca7"
      },
      "execution_count": null,
      "outputs": [
        {
          "output_type": "stream",
          "name": "stdout",
          "text": [
            "a= [[ 1  5 -6]\n",
            " [-1 -4  4]\n",
            " [-2 -7  9]]\n",
            "det(a)= 3\n"
          ]
        }
      ]
    },
    {
      "cell_type": "code",
      "source": [
        "#5-8(a)\n",
        "import numpy as np\n",
        "\n",
        "a = np.array([[1,3,0,2],[-2,-5,7,4],[3,5,2,1],[1,-1,2,-3]])\n",
        "detA = np.linalg.det(a)\n",
        "\n",
        "print(\"a=\",a)\n",
        "print(\"det(a)=\",round(detA))"
      ],
      "metadata": {
        "colab": {
          "base_uri": "https://localhost:8080/"
        },
        "id": "_DmKEoGRtF3-",
        "outputId": "030d5674-6400-4df2-8e4e-afbf5d5abf49"
      },
      "execution_count": null,
      "outputs": [
        {
          "output_type": "stream",
          "name": "stdout",
          "text": [
            "a= [[ 1  3  0  2]\n",
            " [-2 -5  7  4]\n",
            " [ 3  5  2  1]\n",
            " [ 1 -1  2 -3]]\n",
            "det(a)= 0\n"
          ]
        }
      ]
    },
    {
      "cell_type": "code",
      "source": [
        "#5-19(c)\n",
        "import numpy as np\n",
        "\n",
        "def determinant(M):\n",
        "  if len(M) == 2:\n",
        "    return M[0,0]*M[1,1]-M[0,1]*M[1,0]\n",
        "\n",
        "c = np.array([[5,6,0,0],[3,7,0,0],[1,2,2,1],[3,1,3,7]])\n",
        "a = np.array(([5,6],[3,7]))\n",
        "b = np.array([[2,1],[3,7]])\n",
        "\n",
        "print(\"c=\",c)\n",
        "print(\"det(a)=\",determinant(a))\n",
        "print(\"det(b)=\",determinant(b))\n",
        "print(\"a x b=\",determinant(a)*determinant(b))"
      ],
      "metadata": {
        "colab": {
          "base_uri": "https://localhost:8080/"
        },
        "id": "EFzok1srtb0l",
        "outputId": "f946fa32-d91d-4c71-b6e0-c2e473b26edb"
      },
      "execution_count": null,
      "outputs": [
        {
          "output_type": "stream",
          "name": "stdout",
          "text": [
            "c= [[5 6 0 0]\n",
            " [3 7 0 0]\n",
            " [1 2 2 1]\n",
            " [3 1 3 7]]\n",
            "det(a)= 17\n",
            "det(b)= 11\n",
            "a x b= 187\n"
          ]
        }
      ]
    },
    {
      "cell_type": "code",
      "source": [
        "#5-27(a)\n",
        "import numpy as np\n",
        "\n",
        "def cofactor(A,i,j):\n",
        "  (n,m) = A.shape\n",
        "  M = np.zeros((n-1,m-1))\n",
        "  for a in range(0,n-1):\n",
        "    k = a if (a<i) else a+1\n",
        "    for b in range(0,m-1):\n",
        "      l = b if (b<j) else b+1\n",
        "      M[a,b] = A[k,l]\n",
        "\n",
        "  return (-1)**(i+j)*np.linalg.det(M)\n",
        "\n",
        "def inverseByAdjointMatrix(A):\n",
        "  detA = np.linalg.det(A)\n",
        "  (n,m) = A.shape\n",
        "  adjA = np.zeros((n,m))\n",
        "\n",
        "  for i in range(0,n):\n",
        "    for j in range(0,m):\n",
        "      adjA[j,i]= cofactor(A,i,j)\n",
        "\n",
        "  if detA != 0.0:\n",
        "      return(1./detA) * adjA\n",
        "  else:\n",
        "      return 0\n",
        "\n",
        "A = np.array([[2,5,5],[-1,-1,0],[2,4,3]])\n",
        "\n",
        "Ainv = inverseByAdjointMatrix(A)\n",
        "Ainv2 = np.linalg.inv(A)\n",
        "print(\"A inverse =\",Ainv)\n",
        "print(\"\")\n",
        "print(\"A inverse =\",Ainv2)"
      ],
      "metadata": {
        "colab": {
          "base_uri": "https://localhost:8080/"
        },
        "id": "gW8m99Iwt2Cm",
        "outputId": "095802a8-0830-47b0-85c5-11d1721cf7cd"
      },
      "execution_count": null,
      "outputs": [
        {
          "output_type": "stream",
          "name": "stdout",
          "text": [
            "A inverse = [[ 3. -5. -5.]\n",
            " [-3.  4.  5.]\n",
            " [ 2. -2. -3.]]\n",
            "\n",
            "A inverse = [[ 3. -5. -5.]\n",
            " [-3.  4.  5.]\n",
            " [ 2. -2. -3.]]\n"
          ]
        }
      ]
    },
    {
      "cell_type": "markdown",
      "source": [
        "#  벡터 크기 (norm) 구하기\n"
      ],
      "metadata": {
        "id": "HKh7GIm-n7bT"
      }
    },
    {
      "cell_type": "code",
      "source": [
        "#6-21\n",
        "import numpy as np\n",
        "\n",
        "a = np.array([[2],[-1]])\n",
        "b = np.array([[4],[2],[3]])\n",
        "c = np.array([[1],[-1],[1]])\n",
        "\n",
        "NormA = np.linalg.norm(a)\n",
        "# NormA1= np.linalg.norm(a, 1) #L1 norm계산 = 3.0\n",
        "# NormA2 = np.linalg.norm(a, 2) #p=2 norm계산 = 2.23606797749979\n",
        "# NormA3 = np.linalg.norm(a, np.inf) #infinity-norm = 2.0\n",
        "NormB = np.linalg.norm(b)\n",
        "NormC = np.linalg.norm(c)\n",
        "\n",
        "print(\"NormA=\",NormA) #루트가 벗겨진 형태로 출력됨\n",
        "print(\"NormB=\",NormB)\n",
        "print(\"NormC=\",NormC)"
      ],
      "metadata": {
        "id": "bobQxHfdw_og",
        "colab": {
          "base_uri": "https://localhost:8080/"
        },
        "outputId": "079966d8-e91c-4b27-f575-5100abe0793c"
      },
      "execution_count": null,
      "outputs": [
        {
          "output_type": "stream",
          "name": "stdout",
          "text": [
            "NormA= 2.23606797749979\n",
            "NormB= 5.385164807134504\n",
            "NormC= 1.7320508075688772\n"
          ]
        }
      ]
    },
    {
      "cell_type": "code",
      "source": [
        "#6-22\n",
        "import numpy as np\n",
        "\n",
        "u = np.array([2,-2])\n",
        "v = np.array([1,3])\n",
        "print(\"a=\",np.vdot(u,v))\n",
        "\n",
        "u = np.array([2,-2,3])\n",
        "v = np.array([-2,1,3])\n",
        "print(\"b=\",np.vdot(u,v))\n",
        "\n",
        "u = np.array([1,2,-1,3])\n",
        "v = np.array([2,-3,1,4])\n",
        "print(\"c=\",np.vdot(u,v))\n",
        "\n",
        "u = np.array([2,-2,4])\n",
        "v = np.array([-1,1,1])\n",
        "print(\"d=\",np.vdot(u,v))"
      ],
      "metadata": {
        "colab": {
          "base_uri": "https://localhost:8080/"
        },
        "id": "gOmEFSqHpGZ5",
        "outputId": "92cc3a91-0c80-4048-ab4d-3143c876e443"
      },
      "execution_count": null,
      "outputs": [
        {
          "output_type": "stream",
          "name": "stdout",
          "text": [
            "a= -4\n",
            "b= 3\n",
            "c= 7\n",
            "d= 0\n"
          ]
        }
      ]
    }
  ]
}