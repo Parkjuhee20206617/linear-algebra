{
  "nbformat": 4,
  "nbformat_minor": 0,
  "metadata": {
    "colab": {
      "provenance": []
    },
    "kernelspec": {
      "name": "python3",
      "display_name": "Python 3"
    },
    "language_info": {
      "name": "python"
    }
  },
  "cells": [
    {
      "cell_type": "code",
      "execution_count": null,
      "metadata": {
        "colab": {
          "base_uri": "https://localhost:8080/"
        },
        "id": "UMY79e3PTSAk",
        "outputId": "a17f5f91-b856-4432-ae5f-3735ff454daf"
      },
      "outputs": [
        {
          "output_type": "stream",
          "name": "stdout",
          "text": [
            "ranck(a)=  2\n",
            "ranck(b)=  2\n"
          ]
        }
      ],
      "source": [
        "#29(a),(b)\n",
        "import numpy as np\n",
        "a = np.array([[1,2,4,4],\n",
        "              [3,4,8,0]])\n",
        "b = np.array([[1,2,3],\n",
        "              [2,3,5],\n",
        "              [3,4,7],\n",
        "              [4,5,9]])\n",
        "print(\"ranck(a)= \",np.linalg.matrix_rank(a))\n",
        "print(\"ranck(b)= \",np.linalg.matrix_rank(b))"
      ]
    },
    {
      "cell_type": "code",
      "source": [
        "#30(a),(b)\n",
        "import numpy as np\n",
        "a = np.array([[1,2,1,5],\n",
        "              [2,4,-3,0],\n",
        "              [-3,1,2,-1],\n",
        "              [1,2,-1,1]])\n",
        "b = np.array([[1,-2,1],\n",
        "              [1,-1,3],\n",
        "              [1,1,7]])\n",
        "n = a.shape[1]\n",
        "n1 = b.shape[1]\n",
        "print(\"ranck(a)= \",np.linalg.matrix_rank(a),\\\n",
        "      \"\\n퇴화차수 = \", n-np.linalg.matrix_rank(a))\n",
        "print(\"\")\n",
        "print(\"ranck(b)= \",np.linalg.matrix_rank(b),\\\n",
        "      \"\\n퇴화차수 = \", n1-np.linalg.matrix_rank(b))"
      ],
      "metadata": {
        "colab": {
          "base_uri": "https://localhost:8080/"
        },
        "id": "UOdCo02uU1It",
        "outputId": "4a2f782a-aebf-49e8-83bc-42a7cf168a53"
      },
      "execution_count": null,
      "outputs": [
        {
          "output_type": "stream",
          "name": "stdout",
          "text": [
            "ranck(a)=  3 \n",
            "퇴화차수 =  1\n",
            "\n",
            "ranck(b)=  2 \n",
            "퇴화차수 =  1\n"
          ]
        }
      ]
    },
    {
      "cell_type": "code",
      "source": [
        "#33(a)\n",
        "import numpy as np\n",
        "Ab = np.array([[1,0,3,-2],\n",
        "              [-3,1,6,3],\n",
        "              [2,-2,-1,-1]])\n",
        "a = np.array([[1,0,3],\n",
        "              [-3,1,6],\n",
        "              [2,-2,-1]])\n",
        "\n",
        "#(d)\n",
        "A1b = np.array([[1,-3,2,1],\n",
        "              [3,-8,8,6],\n",
        "              [0,1,2,3],\n",
        "              [1,0,8,4]])\n",
        "a1 = np.array([[1,-3,2],\n",
        "              [3,-8,8],\n",
        "              [0,1,2],\n",
        "              [1,0,8]])\n",
        "\n",
        "print(\"ranck(A)= \",np.linalg.matrix_rank(Ab))\n",
        "print(\"ranck(a)= \",np.linalg.matrix_rank(a))\n",
        "print(\"\")\n",
        "\n",
        "print(\"ranck(A1)= \",np.linalg.matrix_rank(A1b))\n",
        "print(\"ranck(a1)= \",np.linalg.matrix_rank(a1))"
      ],
      "metadata": {
        "colab": {
          "base_uri": "https://localhost:8080/"
        },
        "id": "pXB96b7CV4TG",
        "outputId": "44a08e1b-df4e-4781-94a1-e120d2bd6e41"
      },
      "execution_count": null,
      "outputs": [
        {
          "output_type": "stream",
          "name": "stdout",
          "text": [
            "ranck(A)=  3\n",
            "ranck(a)=  3\n",
            "\n",
            "ranck(A1)=  3\n",
            "ranck(a1)=  2\n"
          ]
        }
      ]
    },
    {
      "cell_type": "code",
      "source": [
        "#35\n",
        "import numpy as np\n",
        "A = np.array([[2,5,-3,-4,8],\n",
        "              [4,7,-4,-3,9],\n",
        "              [6,9,-5,2,4],\n",
        "              [0,-9,6,5,-6]])\n",
        "\n",
        "n = A.shape[1]\n",
        "print(\"ranck(A)= \",np.linalg.matrix_rank(A),\\\n",
        "      \"\\n퇴화차수 = \", n-np.linalg.matrix_rank(A))"
      ],
      "metadata": {
        "colab": {
          "base_uri": "https://localhost:8080/"
        },
        "id": "4_2h_XVvYiYA",
        "outputId": "b162c8eb-a654-497c-bfc8-58c6cca42fab"
      },
      "execution_count": null,
      "outputs": [
        {
          "output_type": "stream",
          "name": "stdout",
          "text": [
            "ranck(A)=  3 \n",
            "퇴화차수 =  2\n"
          ]
        }
      ]
    }
  ]
}