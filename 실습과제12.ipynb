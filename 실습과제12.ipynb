{
  "nbformat": 4,
  "nbformat_minor": 0,
  "metadata": {
    "colab": {
      "provenance": []
    },
    "kernelspec": {
      "name": "python3",
      "display_name": "Python 3"
    },
    "language_info": {
      "name": "python"
    }
  },
  "cells": [
    {
      "cell_type": "code",
      "execution_count": null,
      "metadata": {
        "colab": {
          "base_uri": "https://localhost:8080/"
        },
        "id": "wvkKYf4HpWpG",
        "outputId": "c1c26ece-6a10-4742-ede2-a75f971fcf12"
      },
      "outputs": [
        {
          "output_type": "stream",
          "name": "stdout",
          "text": [
            "a=  (1+2j) b=  (3-4j)\n",
            "real:  1.0 imaginary:  2.0\n",
            "cong. of a =  (1-2j)\n",
            "a+b=  (4-2j) a-b=  (-2+6j) a*b=  (11+2j)\n",
            "b의 크기 =  5.0 벡터 w의 놈=  6.0\n",
            "w dot z = 0j\n"
          ]
        }
      ],
      "source": [
        "import numpy as np\n",
        "a = 1 + 2j\n",
        "b = 3 -4j\n",
        "w = np.array([[1-3j],[5+1j]])\n",
        "z = np.array([[-2+3j],[2+1j]])\n",
        "print(\"a= \",a,\"b= \",b)\n",
        "print(\"real: \",a.real,\"imaginary: \",a.imag)\n",
        "print('cong. of a = ', np.conjugate(a))\n",
        "print('a+b= ',a+b, 'a-b= ',a-b,'a*b= ',a*b)\n",
        "print('b의 크기 = ',np.linalg.norm(b),'벡터 w의 놈= ',np.linalg.norm(w))\n",
        "print('w dot z =' , np.vdot(w,z))"
      ]
    },
    {
      "cell_type": "code",
      "source": [
        "#문제7\n",
        "import numpy as np\n",
        "\n",
        "u = np.array([[1-2j],[-3j],[2+4j]])\n",
        "v = np.array([[4j],[1+3j],[2-4j]])\n",
        "x = 1- 3j\n",
        "print('(a) conjugate of u = \\n', np.conjugate(u))\n",
        "print('(b) u+v= \\n',u+v)\n",
        "print('(c) (1-3j)*v= \\n', x*v)\n",
        "print('(d) (2j)*u + (-3)*v= \\n', 2j*u+(-3)*v)"
      ],
      "metadata": {
        "colab": {
          "base_uri": "https://localhost:8080/"
        },
        "id": "WHN1oj9Tr4_k",
        "outputId": "1cad60cf-174d-4fcc-e937-433fee2c2fa6"
      },
      "execution_count": null,
      "outputs": [
        {
          "output_type": "stream",
          "name": "stdout",
          "text": [
            "(a) conjugate of u = \n",
            " [[ 1.+2.j]\n",
            " [-0.+3.j]\n",
            " [ 2.-4.j]]\n",
            "(b) u+v= \n",
            " [[1.+2.j]\n",
            " [1.+0.j]\n",
            " [4.+0.j]]\n",
            "(c) (1-3j)*v= \n",
            " [[ 12. +4.j]\n",
            " [ 10. +0.j]\n",
            " [-10.-10.j]]\n",
            "(d) (2j)*u + (-3)*v= \n",
            " [[  4.-10.j]\n",
            " [  3. -9.j]\n",
            " [-14.+16.j]]\n"
          ]
        }
      ]
    },
    {
      "cell_type": "code",
      "source": [
        "#문제8(a)\n",
        "import numpy as np\n",
        "\n",
        "x = np.array([[4+2j],[3]])\n",
        "y = np.array([[2-1j],[3+4j]])\n",
        "\n",
        "print('x dot y =' , np.vdot(y,x))\n",
        "print('x의 놈= ',np.linalg.norm(x))\n",
        "print('y의 놈= ',np.linalg.norm(y))"
      ],
      "metadata": {
        "colab": {
          "base_uri": "https://localhost:8080/"
        },
        "id": "__ra_6Resb8V",
        "outputId": "8fa10323-20eb-48cc-e81b-e0d697d6b308"
      },
      "execution_count": null,
      "outputs": [
        {
          "output_type": "stream",
          "name": "stdout",
          "text": [
            "x dot y = (15-4j)\n",
            "x의 놈=  5.385164807134504\n",
            "y의 놈=  5.477225575051661\n"
          ]
        }
      ]
    },
    {
      "cell_type": "code",
      "source": [
        "#문제8(b)\n",
        "import numpy as np\n",
        "\n",
        "x = np.array([[3-4j],[1+6j],[2+2j]])\n",
        "y = np.array([[1-1j],[2-4j],[5]])\n",
        "\n",
        "print('x dot y =' , np.vdot(y,x))\n",
        "print('x의 놈= ',np.linalg.norm(x))\n",
        "print('y의 놈= ',np.linalg.norm(y))"
      ],
      "metadata": {
        "colab": {
          "base_uri": "https://localhost:8080/"
        },
        "id": "vOHmscXtucS_",
        "outputId": "2a476968-9bd4-4efd-a886-7f4b8cd0a207"
      },
      "execution_count": null,
      "outputs": [
        {
          "output_type": "stream",
          "name": "stdout",
          "text": [
            "x dot y = (-5+25j)\n",
            "x의 놈=  8.366600265340756\n",
            "y의 놈=  6.855654600401044\n"
          ]
        }
      ]
    },
    {
      "cell_type": "code",
      "source": [
        "#문제10\n",
        "import numpy as np\n",
        "a = 2-3j\n",
        "b = 1+1j\n",
        "b1 =  np.conjugate(b)\n",
        "print('(a) cong. of a = ', np.conjugate(a))\n",
        "print('(b) a*b= ',a*b)\n",
        "print('(c)lal = ', np.linalg.norm(a))\n",
        "print('(d) b*b.conju= ',b*b1)"
      ],
      "metadata": {
        "colab": {
          "base_uri": "https://localhost:8080/"
        },
        "id": "qhvvvxJTua9E",
        "outputId": "f75e80e3-75d7-4811-9738-5cb476929da7"
      },
      "execution_count": null,
      "outputs": [
        {
          "output_type": "stream",
          "name": "stdout",
          "text": [
            "(a) cong. of a =  (2+3j)\n",
            "(b) a*b=  (5-1j)\n",
            "(c)lal =  3.605551275463989\n",
            "(d) b*b.conju=  (2+0j)\n"
          ]
        }
      ]
    }
  ]
}