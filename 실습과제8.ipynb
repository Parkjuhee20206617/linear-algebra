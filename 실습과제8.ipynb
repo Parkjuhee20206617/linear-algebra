{
  "nbformat": 4,
  "nbformat_minor": 0,
  "metadata": {
    "colab": {
      "provenance": []
    },
    "kernelspec": {
      "name": "python3",
      "display_name": "Python 3"
    },
    "language_info": {
      "name": "python"
    }
  },
  "cells": [
    {
      "cell_type": "markdown",
      "source": [
        "# 벡터 외적(cross product) 구하기"
      ],
      "metadata": {
        "id": "xmkeN5KD13ag"
      }
    },
    {
      "cell_type": "code",
      "source": [
        "#6-40\n",
        "import numpy as np\n",
        "\n",
        "u = np.array([2,-1,4])\n",
        "v = np.array([-1,2,5])\n",
        "print(\"a=\",np.cross(u,v))\n",
        "\n",
        "u = np.array([-1,2,5])\n",
        "v = np.array([2,-1,4])\n",
        "print(\"b=\",np.cross(u,v))\n",
        "\n",
        "u = np.array([0,0,0])\n",
        "v = np.array([1,2,1])\n",
        "print(\"c=\",np.cross(u,v))\n",
        "\n",
        "u = np.array([2,1,-1])\n",
        "v = np.array([-1,2,-2])\n",
        "print(\"d=\",np.cross(u,v))"
      ],
      "metadata": {
        "colab": {
          "base_uri": "https://localhost:8080/"
        },
        "id": "RGHlqwPs13GK",
        "outputId": "d6d44703-286d-4d5b-ba0e-53e638fe1e25"
      },
      "execution_count": null,
      "outputs": [
        {
          "output_type": "stream",
          "name": "stdout",
          "text": [
            "a= [-13 -14   3]\n",
            "b= [13 14 -3]\n",
            "c= [0 0 0]\n",
            "d= [0 5 5]\n"
          ]
        }
      ]
    },
    {
      "cell_type": "code",
      "source": [
        "#6-44\n",
        "import numpy as np\n",
        "\n",
        "o = np.array([0,0,0])\n",
        "a = np.array([1,1,0])\n",
        "b = np.array([0,1,1])\n",
        "c = np.array([1,2,1])\n",
        "oa = a - o\n",
        "ob = b - o\n",
        "\n",
        "x = np.cross(oa,ob)\n",
        "y= np.linalg.norm(x)\n",
        "print(\"넓이:\",y) # 루트 푼 상태"
      ],
      "metadata": {
        "id": "j_1QGBje2hOa",
        "colab": {
          "base_uri": "https://localhost:8080/"
        },
        "outputId": "6822c2e2-30c7-4854-b57b-8815b15e1605"
      },
      "execution_count": null,
      "outputs": [
        {
          "output_type": "stream",
          "name": "stdout",
          "text": [
            "넓이: 1.7320508075688772\n"
          ]
        }
      ]
    },
    {
      "cell_type": "code",
      "source": [
        "#6-45\n",
        "import numpy as np\n",
        "\n",
        "o = np.array([0,0,0])\n",
        "a = np.array([4,2,1])\n",
        "b = np.array([1,3,2])\n",
        "c = np.array([2,2,5])\n",
        "oa = a-o\n",
        "ob = b-o\n",
        "oc = c-o\n",
        "\n",
        "x = np.cross(ob,oc)\n",
        "y = np.cross(oa,x)\n",
        "z= np.linalg.norm(y)\n",
        "\n",
        "print(\"부피=\",round(z))"
      ],
      "metadata": {
        "id": "srAjjyyf2jm3",
        "colab": {
          "base_uri": "https://localhost:8080/"
        },
        "outputId": "37a32883-ab5e-4f82-be54-3b0aeda50309"
      },
      "execution_count": null,
      "outputs": [
        {
          "output_type": "stream",
          "name": "stdout",
          "text": [
            "부피= 38\n"
          ]
        }
      ]
    },
    {
      "cell_type": "code",
      "source": [
        "#6-47\n",
        "import numpy as np\n",
        "\n",
        "def tripleProduct(u,v,w):\n",
        "  M = np.zeros((3,3))\n",
        "  M[0:] = u\n",
        "  M[1:] = v\n",
        "  M[2:] = w\n",
        "  val = np.linalg.det(M)\n",
        "  return val\n",
        "\n",
        "u = np.array([2,0,3])\n",
        "v = np.array([0,6,2])\n",
        "w = np.array([3,3,0])\n",
        "print(\"a=\",round(tripleProduct(u,v,w)))\n",
        "\n",
        "u = np.array([1,1,0])\n",
        "v = np.array([-1,0,1])\n",
        "w = np.array([2,3,4])\n",
        "print(\"b=\",round(tripleProduct(u,v,w)))\n",
        "\n",
        "u = np.array([0,1,1])\n",
        "v = np.array([1,2,3])\n",
        "w = np.array([0,0,0])\n",
        "print(\"c=\",round(tripleProduct(u,v,w)))\n",
        "\n",
        "u = np.array([0,0,0])\n",
        "v = np.array([1,2,3])\n",
        "w = np.array([2,3,4])\n",
        "print(\"d=\",round(tripleProduct(u,v,w)))"
      ],
      "metadata": {
        "id": "DiKU0sum2ktS",
        "colab": {
          "base_uri": "https://localhost:8080/"
        },
        "outputId": "273376c5-dce1-4716-b472-ebbf4fa394fa"
      },
      "execution_count": null,
      "outputs": [
        {
          "output_type": "stream",
          "name": "stdout",
          "text": [
            "a= -66\n",
            "b= 3\n",
            "c= 0\n",
            "d= 0\n"
          ]
        }
      ]
    },
    {
      "cell_type": "markdown",
      "source": [
        "# 6장 프로그래밍 실습 따라하기"
      ],
      "metadata": {
        "id": "Dz9osz8l1vO_"
      }
    },
    {
      "cell_type": "code",
      "execution_count": null,
      "metadata": {
        "colab": {
          "base_uri": "https://localhost:8080/"
        },
        "id": "ELVYzf7uyWdW",
        "outputId": "15a9e927-14d9-4255-f874-0b949491f635"
      },
      "outputs": [
        {
          "output_type": "stream",
          "name": "stdout",
          "text": [
            "A와 B의 사잇각: [[1.43893243]]\n",
            "A와 B 위로의 정사영: \n",
            " [[ 0.09090909]\n",
            " [-0.09090909]\n",
            " [ 0.27272727]]\n"
          ]
        }
      ],
      "source": [
        "#실습2\n",
        "import numpy as np\n",
        "import sys\n",
        "\n",
        "def angle2vectors(v,w):\n",
        "  vnorm = np.linalg.norm(v)\n",
        "  wnorm = np.linalg.norm(w)\n",
        "  vwdot = np.dot(v.T,w)\n",
        "  angle = np.arctan(vwdot/(vnorm*wnorm)*360/np.pi)\n",
        "  # angle = np.arccos(vwdot/(vnorm*wnorm)*180/np.pi)\n",
        "  return angle\n",
        "\n",
        "def orthProj(u,x):\n",
        "  xu_dot = np.dot(x.T,u)\n",
        "  uu_dot = np.dot(u.T,u)\n",
        "  projux = (xu_dot/uu_dot)*u\n",
        "  return projux\n",
        "\n",
        "A = np.array([[2],[4],[1]])\n",
        "B = np.array([[1],[-1],[3]])\n",
        "angle = angle2vectors(B,A)\n",
        "projAB = orthProj(B,A)\n",
        "print(\"A와 B의 사잇각:\",angle)\n",
        "print(\"A와 B 위로의 정사영: \\n\",projAB)\n"
      ]
    },
    {
      "cell_type": "code",
      "source": [
        "#6-23\n",
        "import numpy as np\n",
        "import sys\n",
        "\n",
        "def angle2vectors(v,w):\n",
        "  vnorm = np.linalg.norm(v)\n",
        "  wnorm = np.linalg.norm(w)\n",
        "  vwdot = np.dot(v.T,w)\n",
        "  angle = np.arctan(vwdot/(vnorm*wnorm)*360/np.pi)\n",
        "  #angle = np.arccos(vwdot/(vnorm*wnorm)*180/np.pi)\n",
        "  return angle\n",
        "\n",
        "a = np.array([[2],[4],[1]])\n",
        "b = np.array([[1],[-1],[3]])\n",
        "angle = angle2vectors(a,b)\n",
        "print(\"a=\",np.cos(angle)) #루트 풀어서 계산한 값\n",
        "\n",
        "a1 = np.array([[3],[1],[-1]])\n",
        "b1 = np.array([[2],[1],[-3]])\n",
        "angle1 = angle2vectors(a1,b1)\n",
        "print(\"b=\",np.cos(angle1)) #루트 풀어서 계산한 값"
      ],
      "metadata": {
        "id": "mkUh61lOzy08",
        "colab": {
          "base_uri": "https://localhost:8080/"
        },
        "outputId": "aafd897e-923b-4b20-8d07-6febc82cf369"
      },
      "execution_count": null,
      "outputs": [
        {
          "output_type": "stream",
          "name": "stdout",
          "text": [
            "a= [[0.13148209]]\n",
            "b= [[0.01082885]]\n"
          ]
        }
      ]
    },
    {
      "cell_type": "code",
      "source": [
        "#실습3\n",
        "import numpy as np\n",
        "\n",
        "def tripleProduct(u,v,w):\n",
        "  M = np.zeros((3,3))\n",
        "  M[0:] = u\n",
        "  M[1:] = v\n",
        "  M[2:] = w\n",
        "  val = np.linalg.det(M)\n",
        "  return val\n",
        "\n",
        "A = np.array([1,2,3])\n",
        "B = np.array([0,5,2])\n",
        "C = np.array([2,2,4])\n",
        "D = np.array([2,4,1])\n",
        "u = B-A\n",
        "v = C-A\n",
        "w = D-A\n",
        "val = tripleProduct(u,v,w)\n",
        "print(\"부피=\",round(np.absolute(val)))"
      ],
      "metadata": {
        "colab": {
          "base_uri": "https://localhost:8080/"
        },
        "id": "U40HIvwBwnz-",
        "outputId": "5cb67826-a975-40ea-b4b4-b44a365f5b72"
      },
      "execution_count": null,
      "outputs": [
        {
          "output_type": "stream",
          "name": "stdout",
          "text": [
            "부피= 9\n"
          ]
        }
      ]
    }
  ]
}