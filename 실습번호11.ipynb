{
  "nbformat": 4,
  "nbformat_minor": 0,
  "metadata": {
    "colab": {
      "provenance": []
    },
    "kernelspec": {
      "name": "python3",
      "display_name": "Python 3"
    },
    "language_info": {
      "name": "python"
    }
  },
  "cells": [
    {
      "cell_type": "code",
      "execution_count": null,
      "metadata": {
        "colab": {
          "base_uri": "https://localhost:8080/"
        },
        "id": "hzknHoztwtv5",
        "outputId": "61cf4d12-a9b1-4994-8ff4-147359fa515d"
      },
      "outputs": [
        {
          "output_type": "stream",
          "name": "stdout",
          "text": [
            "a고유값:  [-1. -2.]\n",
            "a고유벡터 \n",
            " [[ 0.70710678 -0.4472136 ]\n",
            " [-0.70710678  0.89442719]]\n",
            "\n"
          ]
        }
      ],
      "source": [
        "import numpy as np\n",
        "\n",
        "a = np.array([[0.,1.],[-2.,-3.]])\n",
        "w,v = np.linalg.eig(a)\n",
        "print(\"a고유값: \",w)\n",
        "print(\"a고유벡터 \\n\",v)\n",
        "print(\"\")"
      ]
    },
    {
      "cell_type": "code",
      "source": [
        "b = np.array([[1.,-1.],[2.,4.]])\n",
        "w1,v1 = np.linalg.eig(b)\n",
        "print(\"b고유값: \",w1)\n",
        "print(\"b고유벡터 \\n\",v1)"
      ],
      "metadata": {
        "colab": {
          "base_uri": "https://localhost:8080/"
        },
        "id": "aepKG2TGyK_7",
        "outputId": "3d099286-c485-4eb7-9234-055ed5627c58"
      },
      "execution_count": null,
      "outputs": [
        {
          "output_type": "stream",
          "name": "stdout",
          "text": [
            "b고유값:  [2. 3.]\n",
            "b고유벡터 \n",
            " [[-0.70710678  0.4472136 ]\n",
            " [ 0.70710678 -0.89442719]]\n"
          ]
        }
      ]
    },
    {
      "cell_type": "code",
      "source": [
        "c = np.array([[1.,2.,2.],[0.,2.,1.],[-1.,2.,2.]])\n",
        "w2,v2 = np.linalg.eig(c)\n",
        "print(\"c고유값: \",w2)\n",
        "print(\"c고유벡터 \\n\",v2)"
      ],
      "metadata": {
        "colab": {
          "base_uri": "https://localhost:8080/"
        },
        "id": "HwYdPplD48bo",
        "outputId": "622200d5-6cd2-433e-a8de-76d350ea891c"
      },
      "execution_count": null,
      "outputs": [
        {
          "output_type": "stream",
          "name": "stdout",
          "text": [
            "c고유값:  [2.00000004 1.99999996 1.        ]\n",
            "c고유벡터 \n",
            " [[ 8.94427191e-01 -8.94427191e-01  5.77350269e-01]\n",
            " [ 4.47213595e-01 -4.47213595e-01  5.77350269e-01]\n",
            " [ 1.57560595e-08  1.57560598e-08 -5.77350269e-01]]\n"
          ]
        }
      ]
    },
    {
      "cell_type": "code",
      "source": [
        "d = np.array([[1.,0.,-1.],[1.,2.,1.],[2.,2.,3.]])\n",
        "w3,v3 = np.linalg.eig(d)\n",
        "print(\"d고유값: \",w3)\n",
        "print(\"d고유벡터 \\n\",v3)"
      ],
      "metadata": {
        "colab": {
          "base_uri": "https://localhost:8080/"
        },
        "id": "ey-4mMtM4-wE",
        "outputId": "837c7a66-337e-4076-e1ca-76f0c23dd02f"
      },
      "execution_count": null,
      "outputs": [
        {
          "output_type": "stream",
          "name": "stdout",
          "text": [
            "d고유값:  [2. 3. 1.]\n",
            "d고유벡터 \n",
            " [[-6.66666667e-01 -4.08248290e-01  7.07106781e-01]\n",
            " [ 3.33333333e-01  4.08248290e-01 -7.07106781e-01]\n",
            " [ 6.66666667e-01  8.16496581e-01  1.75541673e-16]]\n"
          ]
        }
      ]
    },
    {
      "cell_type": "code",
      "source": [
        "e = np.array([[1.,-3.,3.],[3.,-5.,3.],[6.,-6.,4.]])\n",
        "w4,v4 = np.linalg.eig(e)\n",
        "print(\"e고유값: \",w4)\n",
        "print(\"e고유벡터 \\n\",v4)"
      ],
      "metadata": {
        "colab": {
          "base_uri": "https://localhost:8080/"
        },
        "id": "I7fAq1-Q4-3p",
        "outputId": "b3485a0a-3f64-4441-dc33-2a4407249162"
      },
      "execution_count": null,
      "outputs": [
        {
          "output_type": "stream",
          "name": "stdout",
          "text": [
            "e고유값:  [ 4.+0.00000000e+00j -2.+1.10465796e-15j -2.-1.10465796e-15j]\n",
            "e고유벡터 \n",
            " [[-0.40824829+0.j          0.24400118-0.40702229j  0.24400118+0.40702229j]\n",
            " [-0.40824829+0.j         -0.41621909-0.40702229j -0.41621909+0.40702229j]\n",
            " [-0.81649658+0.j         -0.66022027+0.j         -0.66022027-0.j        ]]\n"
          ]
        }
      ]
    },
    {
      "cell_type": "code",
      "source": [
        "f = np.array([[1.,-1.,0.],[-1.,2.,-1.],[0.,-1.,1.]])\n",
        "w5,v5 = np.linalg.eig(f)\n",
        "print(\"f고유값: \",w5)\n",
        "print(\"f고유벡터 \\n\",v5)"
      ],
      "metadata": {
        "colab": {
          "base_uri": "https://localhost:8080/"
        },
        "id": "-6k4vhVu4-7d",
        "outputId": "72ff4fab-8a71-4983-cfc3-257f763c0989"
      },
      "execution_count": null,
      "outputs": [
        {
          "output_type": "stream",
          "name": "stdout",
          "text": [
            "f고유값:  [ 3.00000000e+00  1.00000000e+00 -3.36770206e-17]\n",
            "f고유벡터 \n",
            " [[-4.08248290e-01 -7.07106781e-01  5.77350269e-01]\n",
            " [ 8.16496581e-01  2.61239546e-16  5.77350269e-01]\n",
            " [-4.08248290e-01  7.07106781e-01  5.77350269e-01]]\n"
          ]
        }
      ]
    }
  ]
}